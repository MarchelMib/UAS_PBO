{
 "cells": [
  {
   "cell_type": "code",
   "execution_count": 27,
   "metadata": {},
   "outputs": [],
   "source": [
    "//Load Library\n",
    "%classpath add jar libs/*\n",
    "\n"
   ]
  },
  {
   "cell_type": "code",
   "execution_count": 30,
   "metadata": {},
   "outputs": [
    {
     "name": "stdout",
     "output_type": "stream",
     "text": [
      "        Structure of 12191719.csv        \n",
      " Index  |  Column Name  |  Column Type  |\n",
      "-----------------------------------------\n",
      "     0  |          _id  |      INTEGER  |\n",
      "     1  |          idx  |      INTEGER  |\n",
      "     2  |       vervar  |       STRING  |\n",
      "     3  |          var  |       STRING  |\n",
      "     4  |       turvar  |       STRING  |\n",
      "     5  |        tahun  |      INTEGER  |\n",
      "     6  |     turtahun  |       STRING  |\n",
      "     7  |        nilai  |       STRING  |\n",
      "200 rows X 8 cols\n",
      "       Structure of 12191719.xlsx        \n",
      " Index  |  Column Name  |  Column Type  |\n",
      "-----------------------------------------\n",
      "     0  |          _id  |      INTEGER  |\n",
      "     1  |          idx  |      INTEGER  |\n",
      "     2  |       vervar  |       STRING  |\n",
      "     3  |          var  |       STRING  |\n",
      "     4  |       turvar  |       STRING  |\n",
      "     5  |        tahun  |      INTEGER  |\n",
      "     6  |        nilai  |      INTEGER  |\n",
      "                                                              12191719.xlsx                                                              \n",
      " _id  |  idx  |      vervar      |                                var                                |    turvar    |  tahun  |  nilai  |\n",
      "-----------------------------------------------------------------------------------------------------------------------------------------\n",
      " 201  |  200  |  Pariaman Utara  |  Jumlah Penyandang Masalah Kesejahteraan Sosial Menuru Kecamatan  |        AIDS  |   2013  |      0  |\n",
      " 202  |  201  |  Pariaman Utara  |  Jumlah Penyandang Masalah Kesejahteraan Sosial Menuru Kecamatan  |        AIDS  |   2014  |      0  |\n",
      " 203  |  202  |  Pariaman Utara  |  Jumlah Penyandang Masalah Kesejahteraan Sosial Menuru Kecamatan  |        AIDS  |   2015  |      1  |\n",
      " 204  |  203  |  Pariaman Utara  |  Jumlah Penyandang Masalah Kesejahteraan Sosial Menuru Kecamatan  |        AIDS  |   2010  |      0  |\n",
      " 205  |  204  |  Pariaman Utara  |  Jumlah Penyandang Masalah Kesejahteraan Sosial Menuru Kecamatan  |  Anak Nakal  |   2011  |      0  |\n",
      " 206  |  205  |  Pariaman Utara  |  Jumlah Penyandang Masalah Kesejahteraan Sosial Menuru Kecamatan  |  Anak Nakal  |   2012  |      0  |\n",
      " 207  |  206  |  Pariaman Utara  |  Jumlah Penyandang Masalah Kesejahteraan Sosial Menuru Kecamatan  |  Anak Nakal  |   2013  |      0  |\n",
      " 208  |  207  |  Pariaman Utara  |  Jumlah Penyandang Masalah Kesejahteraan Sosial Menuru Kecamatan  |  Anak Nakal  |   2014  |      1  |\n",
      " 209  |  208  |  Pariaman Utara  |  Jumlah Penyandang Masalah Kesejahteraan Sosial Menuru Kecamatan  |  Anak Nakal  |   2015  |      2  |\n",
      " 210  |  209  |  Pariaman Utara  |  Jumlah Penyandang Masalah Kesejahteraan Sosial Menuru Kecamatan  |  Anak Nakal  |   2010  |      0  |\n"
     ]
    },
    {
     "data": {
      "text/plain": [
       "null"
      ]
     },
     "execution_count": 30,
     "metadata": {},
     "output_type": "execute_result"
    }
   ],
   "source": [
    "import tech.tablesaw.io.xlsx.*;\n",
    "import tech.tablesaw.api.*;\n",
    "\n",
    "// display Tablesaw tables with BeakerX table display widget\n",
    "tech.tablesaw.beakerx.TablesawDisplayer.register();\n",
    "\n",
    "//init objek\n",
    "Table  dfSmallgrade= Table.read().csv(\"12191719.csv\");\n",
    "\n",
    "//print dataset structure\n",
    "System.out.println(dfSmallgrade.structure());\n",
    "\n",
    "//Menampilkan  ordo data frame Binatang \n",
    "\n",
    "System.out.println(dfSmallgrade.shape());\n",
    "\n",
    "//init objek XlsReader\n",
    "XlsxReader reader = new XlsxReader();\n",
    "XlsxReadOptions options = XlsxReadOptions.builder(\"12191719.xlsx\").build();\n",
    "Table tab = reader.read(options);\n",
    "\n",
    "Table dfDataXLS = reader.read(options);\n",
    "\n",
    "////Menampilkan struktur data frame dfDataXLS\n",
    "System.out.println(dfDataXLS.structure());\n",
    "\n",
    "//Menampilkan 5 baris data yang terakhir dari data frame dfDataXLS\n",
    "System.out.println(dfDataXLS.first(10));"
   ]
  }
 ],
 "metadata": {
  "kernelspec": {
   "display_name": "Java",
   "language": "java",
   "name": "java"
  },
  "language_info": {
   "codemirror_mode": "text/x-java",
   "file_extension": ".java",
   "mimetype": "",
   "name": "Java",
   "nbconverter_exporter": "",
   "version": "1.8.0_121"
  },
  "toc": {
   "base_numbering": 1,
   "nav_menu": {},
   "number_sections": false,
   "sideBar": false,
   "skip_h1_title": false,
   "title_cell": "Table of Contents",
   "title_sidebar": "Contents",
   "toc_cell": false,
   "toc_position": {},
   "toc_section_display": false,
   "toc_window_display": false
  }
 },
 "nbformat": 4,
 "nbformat_minor": 2
}
