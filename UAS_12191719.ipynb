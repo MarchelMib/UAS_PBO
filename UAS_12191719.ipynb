{
 "cells": [
  {
   "cell_type": "code",
   "execution_count": 31,
   "metadata": {},
   "outputs": [],
   "source": [
    "//Load Library\n",
    "%classpath add jar libs/*\n",
    "\n"
   ]
  },
  {
   "cell_type": "code",
   "execution_count": 35,
   "metadata": {},
   "outputs": [
    {
     "data": {
      "text/html": [
       "<html></html>"
      ]
     },
     "execution_count": 35,
     "metadata": {},
     "output_type": "execute_result"
    }
   ],
   "source": [
    "//Render HTML\n",
    "%%html"
   ]
  },
  {
   "cell_type": "code",
   "execution_count": 37,
   "metadata": {},
   "outputs": [
    {
     "data": {
      "application/vnd.jupyter.widget-view+json": {
       "model_id": "",
       "version_major": 2,
       "version_minor": 0
      },
      "method": "display_data"
     },
     "metadata": {},
     "output_type": "display_data"
    }
   ],
   "source": [
    "%%classpath add mvn\n",
    "tech.tablesaw tablesaw-beakerx 0.37.0\n",
    "tech.tablesaw tablesaw-jsplot 0.37.0\n",
    "tech.tablesaw tablesaw-plot 0.24.4"
   ]
  },
  {
   "cell_type": "code",
   "execution_count": 42,
   "metadata": {},
   "outputs": [
    {
     "name": "stdout",
     "output_type": "stream",
     "text": [
      "        Structure of 12191719.csv        \n",
      " Index  |  Column Name  |  Column Type  |\n",
      "-----------------------------------------\n",
      "     0  |          _id  |      INTEGER  |\n",
      "     1  |          idx  |      INTEGER  |\n",
      "     2  |       vervar  |       STRING  |\n",
      "     3  |          var  |       STRING  |\n",
      "     4  |       turvar  |       STRING  |\n",
      "     5  |        tahun  |      INTEGER  |\n",
      "     6  |     turtahun  |       STRING  |\n",
      "     7  |        nilai  |       STRING  |\n",
      "200 rows X 8 cols\n",
      "       Structure of 12191719.xlsx        \n",
      " Index  |  Column Name  |  Column Type  |\n",
      "-----------------------------------------\n",
      "     0  |          _id  |      INTEGER  |\n",
      "     1  |          idx  |      INTEGER  |\n",
      "     2  |       vervar  |       STRING  |\n",
      "     3  |          var  |       STRING  |\n",
      "     4  |       turvar  |       STRING  |\n",
      "     5  |        tahun  |      INTEGER  |\n",
      "     6  |        nilai  |      INTEGER  |\n",
      "70 rows X 7 cols\n"
     ]
    },
    {
     "ename": "ERROR",
     "evalue": " java.lang.IllegalArgumentException",
     "output_type": "error",
     "traceback": [
      "\u001b[1;31mERROR: java.lang.IllegalArgumentException\u001b[0;0m"
     ]
    }
   ],
   "source": [
    "package tech.tablesaw.examples;\n",
    "\n",
    "import tech.tablesaw.api.*;\n",
    "import tech.tablesaw.io.xlsx.*;\n",
    "import tech.tablesaw.io.csv.*;\n",
    "import static tech.tablesaw.aggregate.AggregateFunctions.*;\n",
    "\n",
    "import tech.tablesaw.api.NumericColumn;\n",
    "import tech.tablesaw.api.Table;\n",
    "import tech.tablesaw.plotly.Plot;\n",
    "import tech.tablesaw.plotly.components.Figure;\n",
    "import tech.tablesaw.plotly.components.Line;\n",
    "import tech.tablesaw.plotly.components.Layout;\n",
    "import tech.tablesaw.plotly.traces.ScatterTrace;\n",
    "import tech.tablesaw.plotly.components.Marker;\n",
    "import tech.tablesaw.plotly.traces.BarTrace;\n",
    "import tech.tablesaw.plotly.traces.Trace;\n",
    "import tech.tablesaw.plotly.api.LinePlot;\n",
    "import tech.tablesaw.plotly.api.ScatterPlot;\n",
    "import tech.tablesaw.plotly.api.VerticalBarPlot;\n",
    "\n",
    "//Display Tablesaw tables dengan BeakerX\n",
    "tech.tablesaw.beakerx.TablesawDisplayer.register();\n",
    "\n",
    "//init objek file CSV\n",
    "Table dfCsv = Table.read().csv(\"12191719.csv\");\n",
    "//Struktur file CSV\n",
    "System.out.println(dfCsv.structure());\n",
    "//Ordo file CSV\n",
    "System.out.println(dfCsv.shape());\n",
    "\n",
    "//init objek XlsxReader\n",
    "XlsxReader reader=new XlsxReader();\n",
    "XlsxReadOptions options=XlsxReadOptions.builder(\"12191719.xlsx\").build();\n",
    "Table dfXlsx=reader.read(options);\n",
    "\n",
    "System.out.println(dfXlsx.structure());\n",
    "System.out.println(dfXlsx.shape());\n",
    "\n",
    "//Menggabungkan file Xlsx dan Csv\n",
    "Table datagabung=dfXlsx.append(dfCsv);\n",
    "\n",
    "datagabung.setName(\"12191719 XLSX dan CSV\");\n",
    "System.out.println(datagabung.first(10));\n",
    "\n",
    "datagabung.setName(\"Rerata 12191719 XLSX dan CSV\");\n",
    "System.out.println(datagabung.summarize(\"nilai\", sum, mean, max, min, median, standardDeviation,variance).apply());\n",
    "\n",
    "Table summaryNilaiPerDaerah=datagabung.summarize(\"nilai\", sum).by(\"vervar\").sortAscendingOn(\"vervar\");\n",
    "System.out.println(summaryNilaiPerDaerah.print());\n",
    "\n",
    "Table summaryNilaiPerMasalah=datagabung.summarize(\"nilai\", sum).by(\"turvar\").sortAscendingOn(\"turvar\");\n",
    "System.out.println(summaryNilaiPerMasalah.print());\n",
    "\n",
    "Plot.show(\n",
    "    ScatterPlot.create(\n",
    "        \"Nilai masalah Tiap Tahun\",\n",
    "        datagabung,\n",
    "        \"tahun\",\n",
    "        \"nilai\",\n",
    "        \"turvar\"\n",
    "    )\n",
    ");\n",
    "\n",
    "Plot.show(\n",
    "        VerticalBarPlot.create(\n",
    "            \"Nilai masalah per Daerah\",\n",
    "            summaryNilaiPerDaerah,\n",
    "            \"vervar\",\n",
    "            Layout.BarMode.GROUP,\n",
    "            \"sum [nilai]\") \n",
    "        );\n",
    "\n",
    "Plot.show(\n",
    "        VerticalBarPlot.create(\n",
    "            \"Jumlah Penyandang per Masalah\",\n",
    "            summaryNilaiPerMasalah,\n",
    "            \"turvar\",\n",
    "            Layout.BarMode.GROUP,\n",
    "            \"sum [nilai]\") \n",
    "        );"
   ]
  },
  {
   "cell_type": "code",
   "execution_count": null,
   "metadata": {},
   "outputs": [],
   "source": []
  },
  {
   "cell_type": "code",
   "execution_count": 41,
   "metadata": {},
   "outputs": [
    {
     "name": "stdout",
     "output_type": "stream",
     "text": [
      "        Structure of 12191719.csv        \n",
      " Index  |  Column Name  |  Column Type  |\n",
      "-----------------------------------------\n",
      "     0  |          _id  |      INTEGER  |\n",
      "     1  |          idx  |      INTEGER  |\n",
      "     2  |       vervar  |       STRING  |\n",
      "     3  |          var  |       STRING  |\n",
      "     4  |       turvar  |       STRING  |\n",
      "     5  |        tahun  |      INTEGER  |\n",
      "     6  |     turtahun  |       STRING  |\n",
      "     7  |        nilai  |       STRING  |\n",
      "200 rows X 8 cols\n",
      "       Structure of 12191719.xlsx        \n",
      " Index  |  Column Name  |  Column Type  |\n",
      "-----------------------------------------\n",
      "     0  |          _id  |      INTEGER  |\n",
      "     1  |          idx  |      INTEGER  |\n",
      "     2  |       vervar  |       STRING  |\n",
      "     3  |          var  |       STRING  |\n",
      "     4  |       turvar  |       STRING  |\n",
      "     5  |        tahun  |      INTEGER  |\n",
      "     6  |        nilai  |      INTEGER  |\n",
      "                                                              12191719.xlsx                                                              \n",
      " _id  |  idx  |      vervar      |                                var                                |    turvar    |  tahun  |  nilai  |\n",
      "-----------------------------------------------------------------------------------------------------------------------------------------\n",
      " 201  |  200  |  Pariaman Utara  |  Jumlah Penyandang Masalah Kesejahteraan Sosial Menuru Kecamatan  |        AIDS  |   2013  |      0  |\n",
      " 202  |  201  |  Pariaman Utara  |  Jumlah Penyandang Masalah Kesejahteraan Sosial Menuru Kecamatan  |        AIDS  |   2014  |      0  |\n",
      " 203  |  202  |  Pariaman Utara  |  Jumlah Penyandang Masalah Kesejahteraan Sosial Menuru Kecamatan  |        AIDS  |   2015  |      1  |\n",
      " 204  |  203  |  Pariaman Utara  |  Jumlah Penyandang Masalah Kesejahteraan Sosial Menuru Kecamatan  |        AIDS  |   2010  |      0  |\n",
      " 205  |  204  |  Pariaman Utara  |  Jumlah Penyandang Masalah Kesejahteraan Sosial Menuru Kecamatan  |  Anak Nakal  |   2011  |      0  |\n",
      " 206  |  205  |  Pariaman Utara  |  Jumlah Penyandang Masalah Kesejahteraan Sosial Menuru Kecamatan  |  Anak Nakal  |   2012  |      0  |\n",
      " 207  |  206  |  Pariaman Utara  |  Jumlah Penyandang Masalah Kesejahteraan Sosial Menuru Kecamatan  |  Anak Nakal  |   2013  |      0  |\n",
      " 208  |  207  |  Pariaman Utara  |  Jumlah Penyandang Masalah Kesejahteraan Sosial Menuru Kecamatan  |  Anak Nakal  |   2014  |      1  |\n",
      " 209  |  208  |  Pariaman Utara  |  Jumlah Penyandang Masalah Kesejahteraan Sosial Menuru Kecamatan  |  Anak Nakal  |   2015  |      2  |\n",
      " 210  |  209  |  Pariaman Utara  |  Jumlah Penyandang Masalah Kesejahteraan Sosial Menuru Kecamatan  |  Anak Nakal  |   2010  |      0  |\n"
     ]
    },
    {
     "data": {
      "text/plain": [
       "null"
      ]
     },
     "execution_count": 41,
     "metadata": {},
     "output_type": "execute_result"
    }
   ],
   "source": [
    "import tech.tablesaw.io.xlsx.*;\n",
    "import tech.tablesaw.api.*;\n",
    "\n",
    "// display Tablesaw tables with BeakerX table display widget\n",
    "tech.tablesaw.beakerx.TablesawDisplayer.register();\n",
    "\n",
    "//init objek\n",
    "Table  dfSmallgrade= Table.read().csv(\"12191719.csv\");\n",
    "\n",
    "//print dataset structure\n",
    "System.out.println(dfSmallgrade.structure());\n",
    "\n",
    "//Menampilkan  ordo data frame Binatang \n",
    "\n",
    "System.out.println(dfSmallgrade.shape());\n",
    "\n",
    "//init objek XlsReader\n",
    "XlsxReader reader = new XlsxReader();\n",
    "XlsxReadOptions options = XlsxReadOptions.builder(\"12191719.xlsx\").build();\n",
    "Table tab = reader.read(options);\n",
    "\n",
    "Table dfDataXLS = reader.read(options);\n",
    "\n",
    "////Menampilkan struktur data frame dfDataXLS\n",
    "System.out.println(dfDataXLS.structure());\n",
    "\n",
    "//Menampilkan 5 baris data yang terakhir dari data frame dfDataXLS\n",
    "System.out.println(dfDataXLS.first(10));"
   ]
  },
  {
   "cell_type": "code",
   "execution_count": null,
   "metadata": {},
   "outputs": [],
   "source": []
  }
 ],
 "metadata": {
  "kernelspec": {
   "display_name": "Java",
   "language": "java",
   "name": "java"
  },
  "language_info": {
   "codemirror_mode": "text/x-java",
   "file_extension": ".java",
   "mimetype": "",
   "name": "Java",
   "nbconverter_exporter": "",
   "version": "1.8.0_121"
  },
  "toc": {
   "base_numbering": 1,
   "nav_menu": {},
   "number_sections": false,
   "sideBar": false,
   "skip_h1_title": false,
   "title_cell": "Table of Contents",
   "title_sidebar": "Contents",
   "toc_cell": false,
   "toc_position": {},
   "toc_section_display": false,
   "toc_window_display": false
  }
 },
 "nbformat": 4,
 "nbformat_minor": 2
}
